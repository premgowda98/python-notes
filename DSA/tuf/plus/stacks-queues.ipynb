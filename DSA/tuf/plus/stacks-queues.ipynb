{
 "cells": [
  {
   "cell_type": "code",
   "execution_count": null,
   "metadata": {},
   "outputs": [
    {
     "ename": "",
     "evalue": "",
     "output_type": "error",
     "traceback": [
      "\u001b[1;31mRunning cells with 'Python 3.12.3' requires the ipykernel package.\n",
      "\u001b[1;31mRun the following command to install 'ipykernel' into the Python environment. \n",
      "\u001b[1;31mCommand: '/bin/python3 -m pip install ipykernel -U --user --force-reinstall'"
     ]
    }
   ],
   "source": [
    "string = '{([]){{()}}}'\n",
    "\n",
    "from queue import LifoQueue\n",
    "from collections import Counter\n",
    "\n",
    "stack = LifoQueue()\n",
    "\n",
    "hash_map = {\n",
    "    '{': '}',\n",
    "    '(': ')',\n",
    "    '[': ']',\n",
    "}\n",
    "\n",
    "for i in hash_map:\n",
    "    string = string.replace(i, hash_map[i])\n",
    "\n",
    "sum(Counter(string).values())%2==0\n"
   ]
  },
  {
   "cell_type": "code",
   "execution_count": 2,
   "metadata": {},
   "outputs": [
    {
     "data": {
      "text/plain": [
       "True"
      ]
     },
     "execution_count": 2,
     "metadata": {},
     "output_type": "execute_result"
    }
   ],
   "source": [
    "\n",
    "from queue import LifoQueue\n",
    "\n",
    "stack = LifoQueue()\n",
    "\n",
    "string = '{([({})])}[]'\n",
    "\n",
    "hash_map_rev = {\n",
    "    '}':'{' ,\n",
    "    ')':'(' ,\n",
    "    ']':'[' ,\n",
    "}\n",
    "\n",
    "def balanced(string):\n",
    "    for i in string:\n",
    "        if i in '{([':\n",
    "            stack.put(i)\n",
    "        else:\n",
    "            if stack.empty():\n",
    "                return False\n",
    "            \n",
    "            lt = stack.get()\n",
    "\n",
    "            if lt != hash_map_rev[i]:\n",
    "                return False\n",
    "            \n",
    "    return True\n",
    "            \n",
    "\n",
    "balanced(string)"
   ]
  },
  {
   "cell_type": "code",
   "execution_count": 10,
   "metadata": {},
   "outputs": [],
   "source": [
    "from queue import LifoQueue\n",
    "\n",
    "stack = LifoQueue()\n",
    "\n",
    "stack.put(5)\n",
    "stack.put(6)"
   ]
  },
  {
   "cell_type": "code",
   "execution_count": 12,
   "metadata": {},
   "outputs": [
    {
     "data": {
      "text/plain": [
       "6"
      ]
     },
     "execution_count": 12,
     "metadata": {},
     "output_type": "execute_result"
    }
   ],
   "source": [
    "stack.queue[-1]"
   ]
  },
  {
   "cell_type": "code",
   "execution_count": 13,
   "metadata": {},
   "outputs": [
    {
     "data": {
      "text/plain": [
       "[0, 0, 0, 0, 0, 0]"
      ]
     },
     "execution_count": 13,
     "metadata": {},
     "output_type": "execute_result"
    }
   ],
   "source": [
    "[0]*6"
   ]
  }
 ],
 "metadata": {
  "kernelspec": {
   "display_name": "Python 3 (ipykernel)",
   "language": "python",
   "name": "python3"
  },
  "language_info": {
   "codemirror_mode": {
    "name": "ipython",
    "version": 3
   },
   "file_extension": ".py",
   "mimetype": "text/x-python",
   "name": "python",
   "nbconvert_exporter": "python",
   "pygments_lexer": "ipython3",
   "version": "3.11.6"
  }
 },
 "nbformat": 4,
 "nbformat_minor": 4
}
