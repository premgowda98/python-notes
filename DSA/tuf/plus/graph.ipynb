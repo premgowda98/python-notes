{
 "cells": [
  {
   "cell_type": "code",
   "execution_count": null,
   "metadata": {},
   "outputs": [],
   "source": [
    "from collections import deque\n",
    "\n",
    "class Solution:\n",
    "    def bfs(self, node, adj, vis):\n",
    "        vis[node] = 1\n",
    "\n",
    "        q = deque()\n",
    "\n",
    "        q.append(node)\n",
    "\n",
    "        while q:\n",
    "            i = q.popleft()\n",
    "\n",
    "            for adjnodes in adj[i]:\n",
    "                if not vis[adjnodes]:\n",
    "                    vis[adjnodes] = 1\n",
    "\n",
    "                    q.append(adjnodes)\n",
    "\n",
    "    def findNumberOfComponent(self, E, V, edges):\n",
    "\n",
    "        adjsLs = [[] for _ in range(V)]\n",
    "\n",
    "        for i in range(E):\n",
    "            adjsLs[edges[i][0]].append(edges[i][1])\n",
    "            adjsLs[edges[i][1]].append(edges[i][0])\n",
    "\n",
    "        vis = [0]*V\n",
    "\n",
    "        cnt = 0\n",
    "\n",
    "        for i in range(V):\n",
    "            if not vis[i]:\n",
    "                cnt += 1\n",
    "\n",
    "                self.bfs(i, adjsLs, vis)\n",
    "\n",
    "        return cnt\n",
    "        \n",
    "\n",
    "       "
   ]
  },
  {
   "cell_type": "code",
   "execution_count": 9,
   "metadata": {},
   "outputs": [
    {
     "data": {
      "text/plain": [
       "2"
      ]
     },
     "execution_count": 9,
     "metadata": {},
     "output_type": "execute_result"
    }
   ],
   "source": [
    "from collections import deque\n",
    "\n",
    "class Solution:\n",
    "    def numProvinces(self, adj):\n",
    "\n",
    "        nodes = len(adj)\n",
    "\n",
    "        adjLs = [[] for _ in range(nodes)]\n",
    "\n",
    "        for i in range(nodes):\n",
    "            for j in range(nodes):\n",
    "                if adj[i][j] == 1 and i!=j:\n",
    "                    adjLs[i].append(j)\n",
    "                    adjLs[j].append(i)\n",
    "\n",
    "        visited = [0]*nodes\n",
    "        cnt = 0\n",
    "\n",
    "        for i in range(nodes):\n",
    "            if not visited[i]:\n",
    "                visited[i] = 1\n",
    "\n",
    "                cnt+=1\n",
    "\n",
    "                #bfs\n",
    "                q = deque()\n",
    "                q.append(i)\n",
    "\n",
    "                while q:\n",
    "                    val = q.popleft()\n",
    "\n",
    "                    for adjNodes in adjLs[val]:\n",
    "                        if not visited[adjNodes]:\n",
    "                            visited[adjNodes]=1\n",
    "                            q.append(adjNodes)\n",
    "\n",
    "        return cnt\n",
    "\n",
    "Solution().numProvinces([[1, 0, 1], [0, 1, 0], [1, 0, 1] ])\n",
    "        "
   ]
  },
  {
   "cell_type": "code",
   "execution_count": 13,
   "metadata": {},
   "outputs": [
    {
     "data": {
      "text/plain": [
       "2"
      ]
     },
     "execution_count": 13,
     "metadata": {},
     "output_type": "execute_result"
    }
   ],
   "source": [
    "from collections import deque\n",
    "class Solution:\n",
    "    def numIslands(self, grid):\n",
    "\n",
    "        nodes = len(grid)\n",
    "\n",
    "        adjLs = [[] for _ in range(nodes)]\n",
    "\n",
    "        for i in range(nodes):\n",
    "            for j in range(nodes):\n",
    "                if grid[i][j]==1 and i!=j:\n",
    "                    adjLs[i].append(j)\n",
    "                    adjLs[j].append(i)\n",
    "\n",
    "        visited = [0]*nodes\n",
    "        cnt = 0\n",
    "\n",
    "        for i in range(nodes):\n",
    "            if not visited[i]:\n",
    "                cnt+=1\n",
    "                visited[i]=1\n",
    "\n",
    "                q = deque()\n",
    "                q.append(i)\n",
    "\n",
    "                while q:\n",
    "                    val = q.popleft()\n",
    "\n",
    "                    for adjNodes in adjLs[val]:\n",
    "\n",
    "                        if not visited[adjNodes]:\n",
    "                            visited[adjNodes]=1\n",
    "                            q.append(adjNodes)\n",
    "\n",
    "        return cnt\n",
    "       \n",
    "Solution().numIslands([[1, 0, 1], [0, 1, 0], [1, 0, 1] ])\n"
   ]
  },
  {
   "cell_type": "code",
   "execution_count": null,
   "metadata": {},
   "outputs": [],
   "source": []
  },
  {
   "cell_type": "code",
   "execution_count": null,
   "metadata": {},
   "outputs": [],
   "source": []
  },
  {
   "cell_type": "code",
   "execution_count": null,
   "metadata": {},
   "outputs": [],
   "source": []
  },
  {
   "cell_type": "code",
   "execution_count": null,
   "metadata": {},
   "outputs": [],
   "source": []
  }
 ],
 "metadata": {
  "kernelspec": {
   "display_name": "Python 3 (ipykernel)",
   "language": "python",
   "name": "python3"
  },
  "language_info": {
   "codemirror_mode": {
    "name": "ipython",
    "version": 3
   },
   "file_extension": ".py",
   "mimetype": "text/x-python",
   "name": "python",
   "nbconvert_exporter": "python",
   "pygments_lexer": "ipython3",
   "version": "3.11.6"
  }
 },
 "nbformat": 4,
 "nbformat_minor": 4
}
