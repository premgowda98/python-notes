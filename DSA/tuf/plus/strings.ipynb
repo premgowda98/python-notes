{
 "cells": [
  {
   "cell_type": "code",
   "execution_count": 1,
   "metadata": {},
   "outputs": [
    {
     "data": {
      "text/plain": [
       "'aaabbaa'"
      ]
     },
     "execution_count": 1,
     "metadata": {},
     "output_type": "execute_result"
    }
   ],
   "source": [
    "def palindromeCheck(s):\n",
    "    size = len(s)\n",
    "    new_str = ''\n",
    "    for i in range(1, size+1):\n",
    "        new_str+=s[size-i]\n",
    "\n",
    "    return new_str\n",
    "\n",
    "palindromeCheck(\"aabbaaa\")"
   ]
  },
  {
   "cell_type": "code",
   "execution_count": 3,
   "metadata": {},
   "outputs": [
    {
     "data": {
      "text/plain": [
       "'2031'"
      ]
     },
     "execution_count": 3,
     "metadata": {},
     "output_type": "execute_result"
    }
   ],
   "source": [
    "def largeOddNum(s):\n",
    "    max_odd = 0\n",
    "    for i in range(len(s), 0, -1):\n",
    "        integer = int(s[0:i])\n",
    "        if integer%2!=0 and integer>max_odd:\n",
    "            max_odd=integer\n",
    "\n",
    "    return str(max_odd) if max_odd !=0 else ''\n",
    "\n",
    "largeOddNum('2031468')"
   ]
  },
  {
   "cell_type": "code",
   "execution_count": 9,
   "metadata": {},
   "outputs": [
    {
     "data": {
      "text/plain": [
       "[1, 2, 5]"
      ]
     },
     "execution_count": 9,
     "metadata": {},
     "output_type": "execute_result"
    }
   ],
   "source": [
    "sorted([2,1,5])"
   ]
  },
  {
   "cell_type": "code",
   "execution_count": 23,
   "metadata": {},
   "outputs": [
    {
     "data": {
      "text/plain": [
       "[3, 1]"
      ]
     },
     "execution_count": 23,
     "metadata": {},
     "output_type": "execute_result"
    }
   ],
   "source": [
    "[1,2,3,4][-2::-2]"
   ]
  },
  {
   "cell_type": "code",
   "execution_count": 27,
   "metadata": {},
   "outputs": [
    {
     "name": "stdout",
     "output_type": "stream",
     "text": [
      "abcd\n",
      "abdc\n",
      "acbd\n",
      "acdb\n",
      "adbc\n",
      "adcb\n",
      "bacd\n",
      "badc\n",
      "bcad\n",
      "bcda\n",
      "bdac\n",
      "bdca\n",
      "cabd\n",
      "cadb\n",
      "cbad\n",
      "cbda\n",
      "cdab\n",
      "cdba\n",
      "dabc\n",
      "dacb\n",
      "dbac\n",
      "dbca\n",
      "dcab\n",
      "dcba\n"
     ]
    }
   ],
   "source": [
    "# find all anagrams\n",
    "\n",
    "import itertools\n",
    "\n",
    "# Generate all anagrams of 'abcd'\n",
    "anagrams = [''.join(p) for p in itertools.permutations('abcd')]\n",
    "\n",
    "# Print the anagrams\n",
    "for anagram in anagrams:\n",
    "    print(anagram)\n",
    "\n"
   ]
  },
  {
   "cell_type": "markdown",
   "metadata": {},
   "source": [
    "Given two strings s and p, return an array of all the start indices of p's anagrams in s. You may return the answer in any order.\n",
    "\n",
    "An Anagram is a word or phrase formed by rearranging the letters of a different word or phrase, typically using all the original letters exactly once.\n",
    "\n",
    " \n",
    "\n",
    "Example 1:\n",
    "\n",
    "Input: s = \"cbaebabacd\", p = \"abc\"\n",
    "Output: [0,6]\n",
    "Explanation:\n",
    "The substring with start index = 0 is \"cba\", which is an anagram of \"abc\".\n",
    "The substring with start index = 6 is \"bac\", which is an anagram of \"abc\"."
   ]
  },
  {
   "cell_type": "code",
   "execution_count": 2,
   "metadata": {},
   "outputs": [
    {
     "data": {
      "text/plain": [
       "[0, 6]"
      ]
     },
     "execution_count": 2,
     "metadata": {},
     "output_type": "execute_result"
    }
   ],
   "source": [
    "def findAnagram(s, p):\n",
    "    scount, pcount = {},{}\n",
    "\n",
    "    for i in range(len(p)):\n",
    "        pcount[p[i]] = 1 + pcount.get(p[i], 0)\n",
    "        scount[s[i]] = 1 + scount.get(s[i], 0)\n",
    "\n",
    "    if pcount == scount:\n",
    "        result = [0]\n",
    "    else:\n",
    "        result = []\n",
    "\n",
    "    left_pointer = 0\n",
    "\n",
    "    for r_pointer in range(len(p), len(s)):\n",
    "        scount[s[r_pointer]] = 1 + scount.get(s[r_pointer],0)\n",
    "        scount[s[left_pointer]] -= 1\n",
    "\n",
    "        if scount[s[left_pointer]] == 0:\n",
    "            scount.pop(s[left_pointer])\n",
    "\n",
    "        left_pointer += 1\n",
    "\n",
    "        if scount == pcount:\n",
    "            result.append(left_pointer)\n",
    "\n",
    "    return result\n",
    "\n",
    "findAnagram(s = \"cbaebabacd\", p = \"abc\")\n",
    "\n"
   ]
  },
  {
   "cell_type": "code",
   "execution_count": 47,
   "metadata": {},
   "outputs": [
    {
     "data": {
      "text/plain": [
       "2"
      ]
     },
     "execution_count": 47,
     "metadata": {},
     "output_type": "execute_result"
    }
   ],
   "source": [
    "# find largest substring\n",
    "\n",
    "string  = 'abcdabcadbcbb'\n",
    "\n",
    "def find_largest_substring(word):\n",
    "    l = 0\n",
    "    r = 1\n",
    "    max_length = 0\n",
    "    result = ''\n",
    "\n",
    "    while l<=r and r < len(word):\n",
    "        temp_str = word[l:r]\n",
    "\n",
    "        if len(temp_str) == len(set(temp_str)):\n",
    "            if len(temp_str)>=max_length:\n",
    "                max_length = len(temp_str)\n",
    "                result = temp_str\n",
    "            r+=1\n",
    "        else:\n",
    "            l+=1\n",
    "\n",
    "    return result\n",
    "\n",
    "# only number\n",
    "def find_largest_substring(word):\n",
    "    l = 0\n",
    "    r = 1\n",
    "    max_length = 1\n",
    "\n",
    "    while l<r and r <= len(word):\n",
    "        temp_str = word[l:r]\n",
    "\n",
    "        if len(temp_str) == len(set(temp_str)):\n",
    "            max_length = max(max_length, len(temp_str))\n",
    "            r+=1\n",
    "        else:\n",
    "            l+=1\n",
    "\n",
    "    return max_length\n",
    "\n",
    "find_largest_substring('au')\n"
   ]
  },
  {
   "cell_type": "markdown",
   "metadata": {},
   "source": [
    "Largest odd number in a string\n",
    "\n",
    "Given a string s, representing a large integer, the task is to return the largest-valued odd integer (as a string) that is a substring of the given string s.\n",
    "\n",
    "The number returned should not have leading zero's. But the given input string may have leading zero.\n",
    "\n",
    "\n",
    "Example 1\n",
    "Input : s = \"5347\"\n",
    "\n",
    "Output : \"5347\"\n",
    "\n",
    "Explanation : The odd numbers formed by given strings are --> 5, 3, 53, 347, 5347.\n",
    "\n",
    "So the largest among all the possible odd numbers for given string is 5347."
   ]
  },
  {
   "cell_type": "code",
   "execution_count": 61,
   "metadata": {},
   "outputs": [
    {
     "data": {
      "text/plain": [
       "''"
      ]
     },
     "execution_count": 61,
     "metadata": {},
     "output_type": "execute_result"
    }
   ],
   "source": [
    "class Solution:  \n",
    "    def largeOddNum(self, s):\n",
    "        #your code goes here\n",
    "        l = 0\n",
    "        r = 1\n",
    "        ans = 0\n",
    "\n",
    "        while r<=len(s):\n",
    "            if s[l]==0:\n",
    "                l+=1\n",
    "                continue\n",
    "                \n",
    "            temp_num = s[l:r]\n",
    "            if int(temp_num[-1])%2!=0:\n",
    "                ans = max(ans, int(temp_num))\n",
    "            r+=1\n",
    "\n",
    "        return '' if ans==0 else str(ans)\n",
    "    \n",
    "class Solution:  \n",
    "    def largeOddNum(self, s):\n",
    "        #your code goes here\n",
    "        l = 0\n",
    "        r = len(s)\n",
    "\n",
    "        while l<r:\n",
    "            if int(s[r-1])%2==0:\n",
    "                r-=1\n",
    "            else:\n",
    "                break\n",
    "\n",
    "        while l<r:\n",
    "            if int(s[l])==0:\n",
    "                l+=1\n",
    "            else:\n",
    "                break\n",
    "\n",
    "        return s[l:r]\n",
    "    \n",
    "Solution().largeOddNum('4206')\n"
   ]
  },
  {
   "cell_type": "code",
   "execution_count": 3,
   "metadata": {},
   "outputs": [
    {
     "data": {
      "text/plain": [
       "'fl'"
      ]
     },
     "execution_count": 3,
     "metadata": {},
     "output_type": "execute_result"
    }
   ],
   "source": [
    "class Solution:  \n",
    "    def longestCommonPrefix(self, st):\n",
    "        #your code goes here\n",
    "\n",
    "        if len(st)==1:\n",
    "            return st[0]\n",
    "\n",
    "        st = sorted(st)\n",
    "\n",
    "        first = st[0]\n",
    "        last = st[-1]\n",
    "\n",
    "        ans = ''\n",
    "\n",
    "        for i in range(min(len(first), len(last))):\n",
    "            if first[i]!=last[i]:\n",
    "                break\n",
    "\n",
    "            ans += first[i]\n",
    "\n",
    "        return ans\n",
    "\n",
    "Solution().longestCommonPrefix([\"flowers\" , \"flow\" , \"fly\", \"flight\" ])"
   ]
  },
  {
   "cell_type": "code",
   "execution_count": 81,
   "metadata": {},
   "outputs": [
    {
     "data": {
      "text/plain": [
       "['e', 'r', 't']"
      ]
     },
     "execution_count": 81,
     "metadata": {},
     "output_type": "execute_result"
    }
   ],
   "source": [
    "from collections import defaultdict\n",
    "\n",
    "class Solution:\n",
    "    def frequencySort(self, s):\n",
    "        #your code goes here\n",
    "\n",
    "        maps = defaultdict(int)\n",
    "\n",
    "        for i in s:\n",
    "            maps[(ord(i), i)]+=1\n",
    "\n",
    "        return [i[0][1] for i in sorted(maps.items())]\n",
    "\n",
    "Solution().frequencySort(\"tree\")"
   ]
  },
  {
   "cell_type": "code",
   "execution_count": 92,
   "metadata": {},
   "outputs": [
    {
     "data": {
      "text/plain": [
       "'bbAa'"
      ]
     },
     "execution_count": 92,
     "metadata": {},
     "output_type": "execute_result"
    }
   ],
   "source": [
    "from collections import defaultdict\n",
    "# for both upper and lower case\n",
    "class Solution:\n",
    "    def frequencySort(self, s):\n",
    "        #your code goes here\n",
    "\n",
    "        maps = defaultdict(int)\n",
    "\n",
    "        for i in s:\n",
    "            maps[(ord(i), i)]+=1\n",
    "\n",
    "        return ''.join([i[0][1]*i[1] for i in sorted(maps.items(),key=lambda x: (-x[1], x[0][0]))])\n",
    "\n",
    "Solution().frequencySort(\"Aabb\")"
   ]
  },
  {
   "cell_type": "code",
   "execution_count": null,
   "metadata": {},
   "outputs": [],
   "source": []
  }
 ],
 "metadata": {
  "kernelspec": {
   "display_name": "Python 3 (ipykernel)",
   "language": "python",
   "name": "python3"
  },
  "language_info": {
   "codemirror_mode": {
    "name": "ipython",
    "version": 3
   },
   "file_extension": ".py",
   "mimetype": "text/x-python",
   "name": "python",
   "nbconvert_exporter": "python",
   "pygments_lexer": "ipython3",
   "version": "3.11.6"
  }
 },
 "nbformat": 4,
 "nbformat_minor": 4
}
