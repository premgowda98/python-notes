{
 "cells": [
  {
   "cell_type": "code",
   "execution_count": 4,
   "metadata": {},
   "outputs": [
    {
     "data": {
      "text/plain": [
       "8"
      ]
     },
     "execution_count": 4,
     "metadata": {},
     "output_type": "execute_result"
    }
   ],
   "source": [
    "'''\n",
    "Given an integer num, repeatedly add all its digits until the result has only one digit, and return it.\n",
    "\n",
    "Input : num = 529\n",
    "\n",
    "Output : 7\n",
    "\n",
    "Explanation : In first iteration the digits sum will be = 5 + 2 + 9 => 16\n",
    "\n",
    "In second iteration the digits sum will be 1 + 6 => 7.\n",
    "\n",
    "Now single digit is remaining , so we return it.\n",
    "'''\n",
    "nums = 5291\n",
    "def addDigits(nums):\n",
    "    dig = 0\n",
    "    while nums>0:\n",
    "        dig += nums%10\n",
    "        nums = nums//10\n",
    "        \n",
    "    if dig<10:\n",
    "        return dig\n",
    "    else:\n",
    "        return addDigits(dig)\n",
    "\n",
    "\n",
    "addDigits(nums)"
   ]
  },
  {
   "cell_type": "code",
   "execution_count": 39,
   "metadata": {},
   "outputs": [
    {
     "data": {
      "text/plain": [
       "['o', 'l', 'l', 'e', 'h']"
      ]
     },
     "execution_count": 39,
     "metadata": {},
     "output_type": "execute_result"
    }
   ],
   "source": [
    "def reverseString(s):\n",
    "    reversed_string = []\n",
    "\n",
    "    def reversed(reversed_string, s):\n",
    "        if len(s)<1:\n",
    "            return reversed_string\n",
    "\n",
    "        reversed_string.append(s[-1])\n",
    "        return reversed(reversed_string, s[:-1])\n",
    "\n",
    "    return reversed(reversed_string, s)\n",
    "\n",
    "reverseString([\"h\", \"e\" ,\"l\" ,\"l\" ,\"o\"])"
   ]
  },
  {
   "cell_type": "code",
   "execution_count": 52,
   "metadata": {},
   "outputs": [
    {
     "data": {
      "text/plain": [
       "True"
      ]
     },
     "execution_count": 52,
     "metadata": {},
     "output_type": "execute_result"
    }
   ],
   "source": [
    "def palindromeCheck(sent_str):\n",
    "    reversed_string = ''\n",
    "\n",
    "    def reversed_func(reversed_string, s):\n",
    "        if len(s)<1:\n",
    "            return reversed_string\n",
    "        reversed_string+=s[-1]\n",
    "        return reversed_func(reversed_string, s[:-1])\n",
    "    \n",
    "    return reversed_func(reversed_string, sent_str) == sent_str\n",
    "\n",
    "palindromeCheck(\"hannah\")"
   ]
  },
  {
   "cell_type": "code",
   "execution_count": 57,
   "metadata": {},
   "outputs": [
    {
     "data": {
      "text/plain": [
       "15"
      ]
     },
     "execution_count": 57,
     "metadata": {},
     "output_type": "execute_result"
    }
   ],
   "source": [
    "def arraySum(nums):\n",
    "    total=0\n",
    "\n",
    "    def reverse_sum(pointer):\n",
    "        nonlocal total\n",
    "        if pointer==0:\n",
    "            return total\n",
    "\n",
    "        total+=nums[pointer]\n",
    "        return reverse_sum(pointer-1)\n",
    "    \n",
    "    return reverse_sum(len(nums)-1)\n",
    "\n",
    "arraySum([1, 2, 3, 10])"
   ]
  },
  {
   "cell_type": "code",
   "execution_count": 9,
   "metadata": {},
   "outputs": [
    {
     "data": {
      "text/plain": [
       "0.25"
      ]
     },
     "execution_count": 9,
     "metadata": {},
     "output_type": "execute_result"
    }
   ],
   "source": [
    "'''\n",
    "Implement the power function pow(x, n) , which calculates the x raised to n i.e. xn.\n",
    "\n",
    "Input : x = 2.0000 , n = 10\n",
    "\n",
    "Output : 1024.0000\n",
    "\n",
    "Explanation : Answer = 2^10 => 1024.\n",
    "\n",
    "'''\n",
    "\n",
    "def pow(x,n):\n",
    "    if n==0:\n",
    "        return 1\n",
    "    \n",
    "    if n<0:\n",
    "        x = 1/x\n",
    "        n = -n\n",
    "    \n",
    "    return x * pow(x, n-1)\n",
    "\n",
    "pow(2,-2)"
   ]
  },
  {
   "cell_type": "code",
   "execution_count": 2,
   "metadata": {},
   "outputs": [
    {
     "data": {
      "text/plain": [
       "'\\nGiven an array of integers nums of unique elements. Return all possible subsets (power set) of the array.\\n\\nDo not include the duplicates in the answer.\\n\\nExample 1\\nInput : nums = [1, 2, 3]\\n\\nOutput : [ [ ] , [1] , [2] , [1, 2] , [3] , [1, 3] , [2, 3] , [1, 2 ,3] ]\\n'"
      ]
     },
     "execution_count": 2,
     "metadata": {},
     "output_type": "execute_result"
    }
   ],
   "source": [
    "'''\n",
    "Given an array of integers nums of unique elements. Return all possible subsets (power set) of the array.\n",
    "\n",
    "Do not include the duplicates in the answer.\n",
    "\n",
    "Example 1\n",
    "Input : nums = [1, 2, 3]\n",
    "\n",
    "Output : [ [ ] , [1] , [2] , [1, 2] , [3] , [1, 3] , [2, 3] , [1, 2 ,3] ]\n",
    "'''"
   ]
  },
  {
   "cell_type": "code",
   "execution_count": 1,
   "metadata": {},
   "outputs": [
    {
     "data": {
      "text/plain": [
       "[[], [1, 2, 3], [1], [1, 2], [1, 3], [2], [2, 3], [3]]"
      ]
     },
     "execution_count": 1,
     "metadata": {},
     "output_type": "execute_result"
    }
   ],
   "source": [
    "nums = [1, 2, 3]\n",
    "final_list = []\n",
    "\n",
    "final_list.append([])\n",
    "final_list.append(nums)\n",
    "for i in nums:\n",
    "    final_list.append([i])\n",
    "    for j in nums:\n",
    "        if i!=j and i<j:\n",
    "            final_list.append([i, j])\n",
    "\n",
    "final_list"
   ]
  },
  {
   "cell_type": "markdown",
   "metadata": {},
   "source": [
    "<img src=\"https://static.takeuforward.org/premium/Recursion/Implementation%20Problems/Power%20Set/-oKM8ohj1\" width=500>"
   ]
  },
  {
   "cell_type": "code",
   "execution_count": 18,
   "metadata": {},
   "outputs": [
    {
     "name": "stdout",
     "output_type": "stream",
     "text": [
      "[[], [3], [2], [2, 3], [1], [1, 3], [1, 2], [1, 2, 3]]\n"
     ]
    }
   ],
   "source": [
    "class Solution:\n",
    "    def backtrack(self, index, n, nums, current, ans):\n",
    "        # Base case: if the index reaches the length of the array,\n",
    "        # add the current subset to the answer list\n",
    "        if index == n:\n",
    "            ans.append(current[:])  # Add a copy of the current list\n",
    "            return\n",
    "        \n",
    "        # Recursive case: Exclude the current element and move to the next element\n",
    "        self.backtrack(index + 1, n, nums, current, ans)\n",
    "        \n",
    "        # Include the current element in the subset and move to the next element\n",
    "        current.append(nums[index])\n",
    "        self.backtrack(index + 1, n, nums, current, ans)\n",
    "        \n",
    "        # Backtrack: remove the last added element to explore other subsets\n",
    "        current.pop()\n",
    "\n",
    "    def powerSet(self, nums):\n",
    "        ans = []  # List to store all subsets\n",
    "        current = []  # Temporary list to store the current subset\n",
    "        self.backtrack(0, len(nums), nums, current, ans)  # Start the recursive process\n",
    "        return ans  # Return the list of all subsets\n",
    "\n",
    "# Main method to test the code\n",
    "if __name__ == \"__main__\":\n",
    "    sol = Solution()\n",
    "    nums = [1, 2, 3]\n",
    "    print(sol.powerSet(nums))  # Expected output: [[], [1], [2], [1, 2], [3], [1, 3], [2, 3], [1, 2, 3]]\n"
   ]
  },
  {
   "cell_type": "code",
   "execution_count": null,
   "metadata": {},
   "outputs": [],
   "source": []
  },
  {
   "cell_type": "code",
   "execution_count": null,
   "metadata": {},
   "outputs": [],
   "source": []
  }
 ],
 "metadata": {
  "kernelspec": {
   "display_name": "Python 3 (ipykernel)",
   "language": "python",
   "name": "python3"
  },
  "language_info": {
   "codemirror_mode": {
    "name": "ipython",
    "version": 3
   },
   "file_extension": ".py",
   "mimetype": "text/x-python",
   "name": "python",
   "nbconvert_exporter": "python",
   "pygments_lexer": "ipython3",
   "version": "3.11.6"
  }
 },
 "nbformat": 4,
 "nbformat_minor": 4
}
