{
 "cells": [
  {
   "cell_type": "markdown",
   "metadata": {},
   "source": [
    "## Recursion\n",
    "\n",
    "1. Base Condition\n",
    "2. Stack Space\n",
    "3. Recursion tree"
   ]
  },
  {
   "cell_type": "code",
   "execution_count": 2,
   "metadata": {},
   "outputs": [
    {
     "name": "stdout",
     "output_type": "stream",
     "text": [
      "1\n",
      "2\n",
      "3\n",
      "4\n",
      "5\n",
      "6\n",
      "7\n",
      "8\n",
      "9\n",
      "10\n"
     ]
    }
   ],
   "source": [
    "# Print in reverse order numbers 1 to 10\n",
    "\n",
    "def reverse(num):\n",
    "    if num>10:\n",
    "        return\n",
    "    \n",
    "    print(num)\n",
    "    num+=1\n",
    "    reverse(num)\n",
    "\n",
    "reverse(1)"
   ]
  },
  {
   "cell_type": "code",
   "execution_count": 1,
   "metadata": {},
   "outputs": [
    {
     "name": "stdout",
     "output_type": "stream",
     "text": [
      "10\n",
      "9\n",
      "8\n",
      "7\n",
      "6\n",
      "5\n",
      "4\n",
      "3\n",
      "2\n",
      "1\n"
     ]
    }
   ],
   "source": [
    "# Print in reverse order numbers 10 to 1\n",
    "\n",
    "def reverse(num):\n",
    "    if num<1:\n",
    "        return\n",
    "    \n",
    "    print(num)\n",
    "    num-=1\n",
    "    reverse(num)\n",
    "\n",
    "reverse(10)\n"
   ]
  },
  {
   "cell_type": "code",
   "execution_count": 3,
   "metadata": {},
   "outputs": [
    {
     "name": "stdout",
     "output_type": "stream",
     "text": [
      "1\n",
      "2\n",
      "3\n",
      "4\n",
      "5\n"
     ]
    }
   ],
   "source": [
    "# Print in order 1 to 5 using backtracking\n",
    "\n",
    "def reverse(num):\n",
    "    if num<1:\n",
    "        return\n",
    "    \n",
    "    reverse(num-1)\n",
    "    print(num)\n",
    "\n",
    "reverse(5)"
   ]
  },
  {
   "cell_type": "code",
   "execution_count": 5,
   "metadata": {},
   "outputs": [
    {
     "name": "stdout",
     "output_type": "stream",
     "text": [
      "5\n",
      "4\n",
      "3\n",
      "2\n",
      "1\n",
      "0\n"
     ]
    }
   ],
   "source": [
    "# Print in order 5 to 1 using backtracking\n",
    "\n",
    "def reverse(i=0, num=0):\n",
    "    if i>num:\n",
    "        return\n",
    "    \n",
    "    reverse(i+1, num)\n",
    "    print(i)\n",
    "\n",
    "reverse(num=5)"
   ]
  },
  {
   "cell_type": "code",
   "execution_count": 9,
   "metadata": {},
   "outputs": [
    {
     "name": "stdout",
     "output_type": "stream",
     "text": [
      "15\n"
     ]
    }
   ],
   "source": [
    "# Sum of n numbers using parametrized\n",
    "\n",
    "def sum_num(i, sum):\n",
    "    if i<1:\n",
    "        print(sum)\n",
    "        return\n",
    "    sum_num(i-1, sum+i)\n",
    "\n",
    "\n",
    "sum_num(5,0)"
   ]
  },
  {
   "cell_type": "code",
   "execution_count": 11,
   "metadata": {},
   "outputs": [
    {
     "data": {
      "text/plain": [
       "15"
      ]
     },
     "execution_count": 11,
     "metadata": {},
     "output_type": "execute_result"
    }
   ],
   "source": [
    "# Sum of n numbers using functional\n",
    "def sum_num(num):\n",
    "    if num==0:\n",
    "        return 0\n",
    "    \n",
    "    return num + sum_num(num-1)\n",
    "\n",
    "sum_num(5)\n"
   ]
  },
  {
   "cell_type": "code",
   "execution_count": 12,
   "metadata": {},
   "outputs": [
    {
     "data": {
      "text/plain": [
       "120"
      ]
     },
     "execution_count": 12,
     "metadata": {},
     "output_type": "execute_result"
    }
   ],
   "source": [
    "# Factorial of n numbers using functional\n",
    "def sum_num(num):\n",
    "    if num==0:\n",
    "        return 1\n",
    "    \n",
    "    return num * sum_num(num-1)\n",
    "\n",
    "sum_num(5)"
   ]
  },
  {
   "cell_type": "code",
   "execution_count": 13,
   "metadata": {},
   "outputs": [
    {
     "data": {
      "text/plain": [
       "[5, 2, 3, 1]"
      ]
     },
     "execution_count": 13,
     "metadata": {},
     "output_type": "execute_result"
    }
   ],
   "source": [
    "# Reverse array\n",
    "\n",
    "array = [1,3,2,5]\n",
    "\n",
    "def reverse(l,r):\n",
    "    if l>=r:\n",
    "        return\n",
    "    \n",
    "    temp1 = array[l]\n",
    "    array[l] = array[r]\n",
    "    array[r] = temp1\n",
    "\n",
    "    reverse(l+1, r-1)\n",
    "\n",
    "reverse(0, len(array)-1)\n",
    "array"
   ]
  },
  {
   "cell_type": "code",
   "execution_count": 19,
   "metadata": {},
   "outputs": [
    {
     "name": "stdout",
     "output_type": "stream",
     "text": [
      "True\n"
     ]
    }
   ],
   "source": [
    "# Check string palindrome\n",
    "string = \"MADAM\"\n",
    "\n",
    "def check_palindrome(l,r):\n",
    "    \n",
    "    if l>=r:\n",
    "        return \"True\"\n",
    "    \n",
    "    if string[l] != string[r]:\n",
    "        return \"False\"\n",
    "    \n",
    "    return check_palindrome(l+1,r-1)\n",
    "\n",
    "print(check_palindrome(0, len(string)-1))"
   ]
  },
  {
   "cell_type": "code",
   "execution_count": 1,
   "metadata": {},
   "outputs": [
    {
     "name": "stdout",
     "output_type": "stream",
     "text": [
      "Formatted String is  amanaplanacanalpanama\n"
     ]
    },
    {
     "data": {
      "text/plain": [
       "True"
      ]
     },
     "execution_count": 1,
     "metadata": {},
     "output_type": "execute_result"
    }
   ],
   "source": [
    "import re\n",
    "string = \"A man, a plan, a canal: Panama\"\n",
    "# string = \"Race a car\"\n",
    "# string = \"ab_a\"\n",
    "string = \"\".join(re.findall(\"[a-zA-Z0-9]+\", string)).lower()\n",
    "print(\"Formatted String is \", string)\n",
    "\n",
    "def check_palindrome(l,r):\n",
    "    \n",
    "    if l>=r:\n",
    "        return True\n",
    "    \n",
    "    if string[l] != string[r]:\n",
    "        return False\n",
    "    \n",
    "    return check_palindrome(l+1,r-1)\n",
    "\n",
    "check_palindrome(0, len(string)-1)"
   ]
  },
  {
   "cell_type": "code",
   "execution_count": 50,
   "metadata": {},
   "outputs": [
    {
     "data": {
      "text/plain": [
       "['A', 'man', 'a', 'plan', 'a', 'canal', 'Panama']"
      ]
     },
     "execution_count": 50,
     "metadata": {},
     "output_type": "execute_result"
    }
   ],
   "source": [
    "re.findall(\"[a-zA-Z0-9]+\", \"A man, a plan, a canal: Panama\")"
   ]
  },
  {
   "cell_type": "code",
   "execution_count": 5,
   "metadata": {},
   "outputs": [
    {
     "data": {
      "text/plain": [
       "8"
      ]
     },
     "execution_count": 5,
     "metadata": {},
     "output_type": "execute_result"
    }
   ],
   "source": [
    "# Fibonacci\n",
    "\n",
    "#Using Recursive Back tracking\n",
    "def fib(n):\n",
    "    if n<2:\n",
    "        return n\n",
    "    \n",
    "    return fib(n-1)+fib(n-2)\n",
    "\n",
    "def fib(n):\n",
    "    ans = [0,1]\n",
    "\n",
    "    for i in range(2, n+1):\n",
    "        ans.append(ans[i-1]+ans[i-2])\n",
    "\n",
    "    return ans[-1]\n",
    "\n",
    "fib(6)"
   ]
  },
  {
   "cell_type": "code",
   "execution_count": null,
   "metadata": {},
   "outputs": [],
   "source": []
  }
 ],
 "metadata": {
  "kernelspec": {
   "display_name": "Python 3 (ipykernel)",
   "language": "python",
   "name": "python3"
  },
  "language_info": {
   "codemirror_mode": {
    "name": "ipython",
    "version": 3
   },
   "file_extension": ".py",
   "mimetype": "text/x-python",
   "name": "python",
   "nbconvert_exporter": "python",
   "pygments_lexer": "ipython3",
   "version": "3.11.6"
  }
 },
 "nbformat": 4,
 "nbformat_minor": 4
}
