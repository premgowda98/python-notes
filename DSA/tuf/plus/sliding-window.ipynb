{
 "cells": [
  {
   "cell_type": "code",
   "execution_count": 1,
   "metadata": {},
   "outputs": [
    {
     "data": {
      "text/plain": [
       "2"
      ]
     },
     "execution_count": 1,
     "metadata": {},
     "output_type": "execute_result"
    }
   ],
   "source": [
    "class Solution:\n",
    "    def longestNonRepeatingSubstring(self, s):\n",
    "        #your code goes here\n",
    "        l=0\n",
    "        r=0\n",
    "        ln = len(s)\n",
    "        hashed = {}\n",
    "        max_len = 1\n",
    "\n",
    "        while r<ln:\n",
    "            if s[r] not in hashed:\n",
    "                ln2 = r-l+1\n",
    "                max_len = max(max_len, ln2)\n",
    "            else:\n",
    "                if hashed[s[r]]>=l:\n",
    "                    l = hashed[s[r]]+1\n",
    "                ln2 = r-l+1\n",
    "                max_len = max(max_len, ln2)\n",
    "\n",
    "            hashed[s[r]]=r\n",
    "            r+=1\n",
    "\n",
    "        return max_len\n",
    "    \n",
    "Solution().longestNonRepeatingSubstring('aaaabbbbcccc')"
   ]
  },
  {
   "cell_type": "code",
   "execution_count": 1,
   "metadata": {},
   "outputs": [
    {
     "data": {
      "text/plain": [
       "10"
      ]
     },
     "execution_count": 1,
     "metadata": {},
     "output_type": "execute_result"
    }
   ],
   "source": [
    "def longestOnes( nums, k):\n",
    "    #your code goes here\n",
    "\n",
    "    l = 0\n",
    "    r = 0\n",
    "    max_length = 0\n",
    "    zeros = 0\n",
    "\n",
    "    while r<len(nums):\n",
    "        if nums[r]==0:\n",
    "            zeros+=1\n",
    "        \n",
    "        while zeros>k:\n",
    "            if nums[l]==0:\n",
    "                zeros-=1\n",
    "            l+=1\n",
    "\n",
    "        length = r-l+1\n",
    "        max_length = max(max_length, length)\n",
    "        \n",
    "        r+=1\n",
    "\n",
    "    return max_length\n",
    "\n",
    "longestOnes(nums = [1, 1, 1, 0, 0, 0, 1, 1, 1, 1, 0] , k = 3)"
   ]
  },
  {
   "cell_type": "code",
   "execution_count": 2,
   "metadata": {},
   "outputs": [
    {
     "data": {
      "text/plain": [
       "5"
      ]
     },
     "execution_count": 2,
     "metadata": {},
     "output_type": "execute_result"
    }
   ],
   "source": [
    "def totalFruits(fruits):\n",
    "    #your code goes here\n",
    "    l,r = 0,0\n",
    "    max_fruits = 0\n",
    "\n",
    "    while r<len(fruits):\n",
    "        picked_fruit = fruits[l:r+1]\n",
    "        if len(set(picked_fruit))<=2:\n",
    "            max_fruits = max(max_fruits, len(picked_fruit))\n",
    "            r+=1\n",
    "        else:\n",
    "            l+=1\n",
    "            \n",
    "    return max_fruits\n",
    "\n",
    "totalFruits([3,3,3,1,2,1,1,2,3,3,4])"
   ]
  },
  {
   "cell_type": "code",
   "execution_count": 63,
   "metadata": {},
   "outputs": [
    {
     "data": {
      "text/plain": [
       "5"
      ]
     },
     "execution_count": 63,
     "metadata": {},
     "output_type": "execute_result"
    }
   ],
   "source": [
    "def numberOfSubstrings(s: str) -> int:\n",
    "    #your code goes here\n",
    "    l,r=0,1\n",
    "    max_substrings = 0\n",
    "\n",
    "    while r<len(s)+1:\n",
    "        temp = s[l:r]\n",
    "        if len(temp)>2:\n",
    "            if set(temp)==set('abc'):\n",
    "                l+=1\n",
    "                max_substrings=max_substrings+len(s[r:])+1\n",
    "                r-=1\n",
    "                \n",
    "        r+=1\n",
    "\n",
    "    return max_substrings\n",
    "\n",
    "numberOfSubstrings('abcba')"
   ]
  },
  {
   "cell_type": "code",
   "execution_count": 78,
   "metadata": {},
   "outputs": [],
   "source": [
    "p = [5,7,6]\n",
    "del p[-1]"
   ]
  },
  {
   "cell_type": "code",
   "execution_count": 79,
   "metadata": {},
   "outputs": [],
   "source": [
    "from queue import LifoQueue"
   ]
  },
  {
   "cell_type": "code",
   "execution_count": null,
   "metadata": {},
   "outputs": [],
   "source": []
  },
  {
   "cell_type": "code",
   "execution_count": 83,
   "metadata": {},
   "outputs": [
    {
     "data": {
      "text/plain": [
       "<queue.LifoQueue at 0x268f1c51a90>"
      ]
     },
     "execution_count": 83,
     "metadata": {},
     "output_type": "execute_result"
    }
   ],
   "source": []
  }
 ],
 "metadata": {
  "kernelspec": {
   "display_name": "Python 3 (ipykernel)",
   "language": "python",
   "name": "python3"
  },
  "language_info": {
   "codemirror_mode": {
    "name": "ipython",
    "version": 3
   },
   "file_extension": ".py",
   "mimetype": "text/x-python",
   "name": "python",
   "nbconvert_exporter": "python",
   "pygments_lexer": "ipython3",
   "version": "3.11.6"
  }
 },
 "nbformat": 4,
 "nbformat_minor": 4
}
