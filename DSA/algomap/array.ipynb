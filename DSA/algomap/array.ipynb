{
 "cells": [
  {
   "cell_type": "markdown",
   "id": "f9ca5030-4f8f-429d-966a-0ff837503f67",
   "metadata": {},
   "source": [
    "Given an integer array nums of size n, return the number with the value closest to 0 in nums. If there are multiple answers, return the number with the largest value.\n",
    "\n",
    "Example 1:\n",
    "\n",
    "Input: nums = [-4,-2,1,4,8]\n",
    "Output: 1\n",
    "Explanation:\n",
    "The distance from -4 to 0 is |-4| = 4.\n",
    "The distance from -2 to 0 is |-2| = 2.\n",
    "The distance from 1 to 0 is |1| = 1.\n",
    "The distance from 4 to 0 is |4| = 4.\n",
    "The distance from 8 to 0 is |8| = 8.\n",
    "Thus, the closest number to 0 in the array is 1."
   ]
  },
  {
   "cell_type": "code",
   "execution_count": null,
   "id": "02d54538-b732-4ce3-9dad-9a13075a6bd7",
   "metadata": {},
   "outputs": [],
   "source": [
    "class Solution:\n",
    "    def findClosestNumber(self, nums: List[int]) -> int:\n",
    "        closet = float(\"inf\")\n",
    "\n",
    "        for i in nums:\n",
    "            closet = min(closet, abs(0-i))\n",
    "\n",
    "        return closet\n",
    "        "
   ]
  },
  {
   "cell_type": "markdown",
   "id": "14dd7294-0361-4aca-ba78-2a8f5997e9c6",
   "metadata": {},
   "source": [
    "You are given two strings word1 and word2. Merge the strings by adding letters in alternating order, starting with word1. If a string is longer than the other, append the additional letters onto the end of the merged string.\n",
    "\n",
    "Return the merged string.\n",
    "\n",
    " \n",
    "\n",
    "Example 1:\n",
    "\n",
    "Input: word1 = \"abc\", word2 = \"pqr\"\n",
    "Output: \"apbqcr\"\n",
    "Explanation: The merged string will be merged as so:\n",
    "word1:  a   b   c\n",
    "word2:    p   q   r\n",
    "merged: a p b q c r"
   ]
  },
  {
   "cell_type": "code",
   "execution_count": 3,
   "id": "035a7081-f11f-4d55-917b-10154c029271",
   "metadata": {},
   "outputs": [],
   "source": [
    "from itertools import zip_longest\n",
    "class Solution:\n",
    "    def mergeAlternately(self, word1: str, word2: str) -> str:\n",
    "        merged_word = \"\"\n",
    "\n",
    "        for i,j in zip_longest(word1, word2):\n",
    "            merged_word += i if i else \"\"\n",
    "            merged_word += j if j else \"\"\n",
    "\n",
    "        return merged_word\n",
    "        "
   ]
  },
  {
   "cell_type": "markdown",
   "id": "2ec92a11-ae75-40f1-94fc-116ac15cb4d0",
   "metadata": {},
   "source": [
    "Roman numerals are represented by seven different symbols: I, V, X, L, C, D and M.\n",
    "\n",
    "Symbol       Value\n",
    "I             1\n",
    "V             5\n",
    "X             10\n",
    "L             50\n",
    "C             100\n",
    "D             500\n",
    "M             1000\n",
    "For example, 2 is written as II in Roman numeral, just two ones added together. 12 is written as XII, which is simply X + II. The number 27 is written as XXVII, which is XX + V + II.\n",
    "\n",
    "Roman numerals are usually written largest to smallest from left to right. However, the numeral for four is not IIII. Instead, the number four is written as IV. Because the one is before the five we subtract it making four. The same principle applies to the number nine, which is written as IX. There are six instances where subtraction is used:\n",
    "\n",
    "I can be placed before V (5) and X (10) to make 4 and 9. \n",
    "X can be placed before L (50) and C (100) to make 40 and 90. \n",
    "C can be placed before D (500) and M (1000) to make 400 and 900.\n",
    "Given a roman numeral, convert it to an integer.\n",
    "\n",
    " \n",
    "\n",
    "Example 1:\n",
    "\n",
    "Input: s = \"III\"\n",
    "Output: 3\n",
    "Explanation: III = 3."
   ]
  },
  {
   "cell_type": "code",
   "execution_count": 4,
   "id": "94a0df4a-c8e3-4c76-a3d6-67e8013e33b6",
   "metadata": {},
   "outputs": [],
   "source": [
    "class Solution:\n",
    "    def romanToInt(self, s: str) -> int:\n",
    "        translations = {\n",
    "            \"I\": 1,\n",
    "            \"V\": 5,\n",
    "            \"X\": 10,\n",
    "            \"L\": 50,\n",
    "            \"C\": 100,\n",
    "            \"D\": 500,\n",
    "            \"M\": 1000\n",
    "        }\n",
    "        number = 0\n",
    "        s = s.replace(\"IV\", \"IIII\").replace(\"IX\", \"VIIII\")\n",
    "        s = s.replace(\"XL\", \"XXXX\").replace(\"XC\", \"LXXXX\")\n",
    "        s = s.replace(\"CD\", \"CCCC\").replace(\"CM\", \"DCCCC\")\n",
    "        for char in s:\n",
    "            number += translations[char]\n",
    "        return number"
   ]
  },
  {
   "cell_type": "markdown",
   "id": "ba89cc46-a506-4dbd-b99f-4e3dbb05387f",
   "metadata": {},
   "source": [
    "Given two strings s and t, return true if s is a subsequence of t, or false otherwise.\n",
    "\n",
    "A subsequence of a string is a new string that is formed from the original string by deleting some (can be none) of the characters without disturbing the relative positions of the remaining characters. (i.e., \"ace\" is a subsequence of \"abcde\" while \"aec\" is not).\n",
    "\n",
    " \n",
    "\n",
    "Example 1:\n",
    "\n",
    "Input: s = \"abc\", t = \"ahbgdc\"\n",
    "Output: true\n",
    "Example 2:\n",
    "\n",
    "Input: s = \"axc\", t = \"ahbgdc\"\n",
    "Output: false"
   ]
  },
  {
   "cell_type": "code",
   "execution_count": 26,
   "id": "730d461d-c00a-4851-8aeb-3d67823dd2bb",
   "metadata": {},
   "outputs": [
    {
     "data": {
      "text/plain": [
       "True"
      ]
     },
     "execution_count": 26,
     "metadata": {},
     "output_type": "execute_result"
    }
   ],
   "source": [
    "from typing import List\n",
    "class Solution:\n",
    "    def isSubsequence(self, s: str, t: str) -> bool:\n",
    "        if not s:\n",
    "            return True\n",
    "\n",
    "        if not t:\n",
    "            return False\n",
    "\n",
    "        i,j=0,0\n",
    "\n",
    "        while j<len(t) and i<len(s):\n",
    "            if s[i]==t[j]:\n",
    "                i+=1\n",
    "                j+=1\n",
    "            else:\n",
    "                j+=1\n",
    "        return i==len(s)\n",
    "\n",
    "Solution().isSubsequence(\"abc\", \"ahbgdc\")\n",
    "Solution().isSubsequence(\"b\", \"abc\")\n"
   ]
  },
  {
   "cell_type": "markdown",
   "id": "71791d31-3984-40fe-baab-d311a4b2cabf",
   "metadata": {},
   "source": [
    "Given an integer array nums, return an array answer such that answer[i] is equal to the product of all the elements of nums except nums[i].\n",
    "\n",
    "The product of any prefix or suffix of nums is guaranteed to fit in a 32-bit integer.\n",
    "\n",
    "You must write an algorithm that runs in O(n) time and without using the division operation.\n",
    "\n",
    " \n",
    "\n",
    "Example 1:\n",
    "\n",
    "Input: nums = [1,2,3,4]\n",
    "Output: [24,12,8,6]\n",
    "Example 2:\n",
    "\n",
    "Input: nums = [-1,1,0,-3,3]\n",
    "Output: [0,0,9,0,0]"
   ]
  },
  {
   "cell_type": "code",
   "execution_count": 28,
   "id": "447d486a-33f6-48c0-8984-be182a5db4c1",
   "metadata": {},
   "outputs": [
    {
     "data": {
      "text/plain": [
       "[24, 12, 8, 6]"
      ]
     },
     "execution_count": 28,
     "metadata": {},
     "output_type": "execute_result"
    }
   ],
   "source": [
    "from typing import List\n",
    "\n",
    "class Solution:\n",
    "    def productExceptSelf(self, nums: List[int]) -> List[int]:\n",
    "        ans = []\n",
    "\n",
    "        for i in range(len(nums)):\n",
    "            temp = 1\n",
    "            for j in nums[:i] + nums[i+1:]:\n",
    "                temp*=j\n",
    "            ans.append(temp)\n",
    "\n",
    "        return ans\n",
    "\n",
    "Solution().productExceptSelf([1,2,3,4])"
   ]
  },
  {
   "cell_type": "code",
   "execution_count": 30,
   "id": "8e7d44c0-90fb-4c5f-8001-22e3a83dc1e6",
   "metadata": {},
   "outputs": [
    {
     "name": "stdout",
     "output_type": "stream",
     "text": [
      "3\n"
     ]
    }
   ],
   "source": [
    "def min_repeats_to_make_substring(S1, S2):\n",
    "    # Start with an empty string and repeat S1\n",
    "    repeated_str = S1\n",
    "    count = 1  # To count the number of repetitions of S1\n",
    "    \n",
    "    # Repeat S1 until the length of the repeated string is at least as long as S2\n",
    "    while len(repeated_str) < len(S2):\n",
    "        repeated_str += S1\n",
    "        count += 1\n",
    "        \n",
    "    # If S2 is a substring of the repeated string, return the count\n",
    "    if S2 in repeated_str:\n",
    "        return count\n",
    "    # If not, add one more repetition of S1 and check again\n",
    "    elif S2 in repeated_str + S1:\n",
    "        return count + 1\n",
    "    else:\n",
    "        return -1  # Just in case, but shouldn't happen based on the problem statement.\n",
    "\n",
    "# Example usage:\n",
    "S1 = \"abcd\"\n",
    "S2 = \"cdabcdab\"\n",
    "result = min_repeats_to_make_substring(S1, S2)\n",
    "print(result)\n"
   ]
  },
  {
   "cell_type": "code",
   "execution_count": null,
   "id": "4c39b68c-9d68-4a49-b3d9-1db7bfba8b25",
   "metadata": {},
   "outputs": [],
   "source": []
  },
  {
   "cell_type": "code",
   "execution_count": null,
   "id": "d0b40075-d82e-4015-9d45-8cffa64918be",
   "metadata": {},
   "outputs": [],
   "source": []
  },
  {
   "cell_type": "code",
   "execution_count": null,
   "id": "edf64eb1-6bbc-40be-a6e3-a8953d80a67b",
   "metadata": {},
   "outputs": [],
   "source": []
  }
 ],
 "metadata": {
  "kernelspec": {
   "display_name": "Python 3 (ipykernel)",
   "language": "python",
   "name": "python3"
  },
  "language_info": {
   "codemirror_mode": {
    "name": "ipython",
    "version": 3
   },
   "file_extension": ".py",
   "mimetype": "text/x-python",
   "name": "python",
   "nbconvert_exporter": "python",
   "pygments_lexer": "ipython3",
   "version": "3.11.6"
  }
 },
 "nbformat": 4,
 "nbformat_minor": 5
}
